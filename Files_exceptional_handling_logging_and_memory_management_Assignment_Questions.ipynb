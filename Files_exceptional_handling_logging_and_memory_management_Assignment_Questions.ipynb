{
  "nbformat": 4,
  "nbformat_minor": 0,
  "metadata": {
    "colab": {
      "provenance": []
    },
    "kernelspec": {
      "name": "python3",
      "display_name": "Python 3"
    },
    "language_info": {
      "name": "python"
    }
  },
  "cells": [
    {
      "cell_type": "markdown",
      "source": [
        "********* Files, exceptional handling, logging and memory management Assignment Question *******"
      ],
      "metadata": {
        "id": "xfuHYXRahO21"
      }
    },
    {
      "cell_type": "markdown",
      "source": [
        "Ques1:What is the difference between interpreted and compiled languages?\n",
        "- Ans:Compiled languages translate the entire program into machine code before execution, while interpreted languages translate the code line by line during execution.\n",
        "\n",
        "Ques2:What is exception handling in Python?\n",
        "- Ans:Exception handling in Python is a mechanism to manage errors that occur during the execution of a program. These errors, known as exceptions, can disrupt the normal flow of the program, potentially causing it to terminate abruptly. Exception handling allows the program to gracefully handle these errors, preventing crashes and ensuring continued execution.\n",
        "\n",
        "Ques3:What is the purpose of the finally block in exception handling?\n",
        "- Ans:The purpose of the finally block in exception handling is to ensure that a specific block of code is always executed, regardless of whether an exception occurs in the preceding try block, or if any exception handling catch blocks are triggered. It's crucial for guaranteeing that critical cleanup actions, such as closing files or releasing resources, are performed consistently, even in the face of unexpected errors.\n",
        "\n",
        "Ques4:What is logging in Python?\n",
        "- Ans:Logging in Python is a built-in module that provides a flexible framework for emitting log messages from Python programs. It allows developers to track events, debug issues, and monitor the health of their applications. Logging is essential for understanding the flow of execution, identifying errors, and gaining insights into the behavior of software during runtime.\n",
        "\n",
        "Ques5:What is the significance of the __del__ method in Python?\n",
        "- Ans:The __del__ method in Python, also known as a destructor, defines actions to be performed when an object is garbage collected. It is called automatically when an object's reference count reaches zero, meaning it's no longer in use. The primary significance of __del__ lies in resource management, specifically in releasing external resources held by an object, such as closing files or network connections.\n",
        "\n",
        "Ques6:What is the difference between import and from ... import in Python?\n",
        "- Ans:The key difference between import and from ... import lies in how they make modules and their contents accessible within a program.\n",
        "\n",
        "Ques7:How can you handle multiple exceptions in Python?\n",
        "- Ans:handling multiple exceptions is crucial for writing robust and error-resistant code. When your code encounters an error, it raises an exception, which can be caught and handled using the try and except blocks. There are several techniques to catch multiple exceptions effectively.\n",
        "\n",
        "Ques8:What is the purpose of the with statement when handling files in Python?\n",
        "Ans:The with statement in Python provides a clean and reliable way to manage resources, particularly files. It ensures that files are properly opened and closed, even if errors occur during processing. This automatic resource management prevents issues like data corruption or resource leaks.\n",
        "\n",
        "Ques9:What is the difference between multithreading and multiprocessing?\n",
        "- Ans:Multithreading and multiprocessing are both techniques to run multiple tasks concurrently, but they differ in how they achieve this. Multithreading creates multiple threads within a single process, allowing for concurrent execution within that process, while multiprocessing creates multiple processes, each with its own resources, enabling parallel execution across multiple processors.\n",
        "\n",
        "Ques10:What are the advantages of using logging in a program?\n",
        "- Ans:Logging offers significant advantages in software development, including improved debugging, easier troubleshooting, enhanced system observability, and better communication between developers and administrators. It provides a record of events, helping identify issues, understand system behavior, and optimize performance.\n",
        "\n",
        "Ques11:What is memory management in Python?\n",
        "- Ans:Memory management in Python involves the allocation and deallocation of memory resources for objects. Python utilizes a private heap to store objects and data structures, and the Python memory manager oversees this heap. This process is largely automatic, relieving the programmer from manual memory management tasks common in languages like C or C++\n",
        "\n",
        "Ques12:What are the basic steps involved in exception handling in Python?\n",
        "- Ans: Exception handling in Python is a mechanism to handle runtime errors, ensuring that the program can continue its execution or terminate gracefully. Exceptions are events that disrupt the normal flow of a program, and they can be caused by various reasons such as invalid input, file not found, division by zero, etc.\n",
        "\n",
        "Ques13:Why is memory management important in Python?\n",
        "- Ans:Memory management is important in Python to ensure efficient use of system resources, prevent memory leaks, and maintain program stability. Python automates memory management through techniques like reference counting and garbage collection, which handle the allocation and deallocation of memory. Efficient memory management leads to faster processing, less resource consumption, and prevents issues like program crashes or slowdowns due to excessive memory usage. While Python handles memory management automatically, understanding its mechanisms is crucial for writing optimized and reliable code.\n",
        "\n",
        "Ques14:What is the role of try and except in exception handling?\n",
        "- Ans:In exception handling, the try and except blocks work together to gracefully manage errors that might occur during code execution. The try block contains the code that might potentially raise an exception, while the except block contains the code that handles that specific type of exception.\n",
        "\n",
        "Ques15:How does Python's garbage collection system work?\n",
        "- Ans:Python uses a hybrid approach for garbage collection: reference counting and generational garbage collection. Reference counting is the primary method, where each object has a reference count indicating how many other objects are referencing it. When an object's reference count reaches zero, it's deallocated. However, to handle circular references (where objects reference each other), Python also employs a generational garbage collector. This collector uses a mark-and-sweep algorithm to identify and reclaim memory occupied by unreachable objects, even in the presence of cycles.\n",
        "\n",
        "Ques16:What is the purpose of the else block in exception handling?\n",
        "- Ans:The else block in exception handling, often used in try...except...else structures, executes only when no exceptions are raised within the try block. It provides a way to execute code that's intended to run when the try block executes successfully, effectively separating normal execution from exception handling.\n",
        "\n",
        "Ques17:What are the common logging levels in Python?\n",
        "- Ans:Python's logging module provides a standard way to incorporate logging into applications. It defines six logging levels, each representing the severity of an event. These levels, in increasing order of severity, are:\n",
        "NOTSET (0): The default level. When a logger or handler is set to NOTSET, it processes all events.\n",
        "DEBUG (10): Detailed information, typically used for diagnosing problems.\n",
        "INFO (20): Confirmation that things are working as expected.\n",
        "WARNING (30): An indication that something unexpected happened or might happen in the near future. The software is still working as expected.\n",
        "ERROR (40): A more serious problem. A function has not been able to perform a certain task.\n",
        "CRITICAL (50): A severe error, indicating that the program itself may be unable to continue running\n",
        "\n",
        "Ques18:What is the difference between os.fork() and multiprocess?\n",
        "- Ans:One big issue is that the fork system call does not exist on Windows. Therefore, when running a Windows OS you cannot use this method. multiprocessing is a higher-level interface to execute a part of the currently running program. Therefore, it - as forking does - creates a copy of your process current state. That is to say, it takes care of the forking of your program for you.\n",
        "\n",
        "Ques19:What is the importance of closing a file in Python?\n",
        "- Ans:Closing a file in Python is an essential step to ensure that all data is properly saved and system resources are released. When you open a file using the open() function, a file object is created. This file object provides methods for reading, writing, and manipulating the file content. However, it is crucial to close the file after performing the necessary operations to avoid potential issues like data corruption and resource leaks.\n",
        "\n",
        "Ques20:What is the difference between file.read() and file.readline() in Python?\n",
        "- Ans:file.read() and file.readline() are both methods used to read data from a file object in Python, but they differ in how much data they read at a time:\n",
        "file.read(size): Reads at most size number of characters from the file and returns them as a single string. If size is omitted or negative, it reads the entire file content into a single string.\n",
        "file.readline(size): Reads at most size number of characters from the current line, including the newline character \\n, and returns the line as a string. If size is omitted or negative, it reads the entire line. If the end of the file is reached, it returns an empty string.\n",
        "\n",
        "Ques21:What is the logging module in Python used for?\n",
        "- Ans:The logging module in Python is used for recording events and debugging issues during application execution. It provides a flexible system for logging messages, including errors, warnings, and informational messages, to various output destinations like files or the console.\n",
        "\n",
        "Ques22:What is the os module in Python used for in file handling?\n",
        "- Ans:Python has a built-in os module with methods for interacting with the operating system, like creating files and directories, management of files and directories, input, output, environment variables, process management, etc.\n",
        "\n",
        "Ques23:What are the challenges associated with memory management in Python?\n",
        "- Ans: Python's automatic memory management, while simplifying development, presents several challenges:\n",
        "\n",
        "Garbage Collection Overhead\n",
        "Memory Leaks\n",
        "Memory Fragmentation\n",
        "Difficulty in Predicting Memory Usage\n",
        "Limited Control\n",
        "Memory Bloat\n",
        "Reference Counting Overhead\n",
        "Space Overhead\n",
        "\n",
        "Ques24:How do you raise an exception manually in Python?\n",
        "- Ans:To raise an exception manually in Python, the raise keyword is used, followed by the exception class or an instance of an exception class. It allows for explicitly triggering an exception at a specific point in the code.\n",
        "\n",
        "Ques25:Why is it important to use multithreading in certain applications?\n",
        "- Ans:Multithreading is important in applications that benefit from concurrent execution of tasks, improved responsiveness, and efficient resource utilization. By breaking down a program into smaller, independent threads, applications can perform multiple operations simultaneously, leading to faster execution, smoother user interfaces, and better utilization of CPU cores."
      ],
      "metadata": {
        "id": "IaaeYOpihd_j"
      }
    },
    {
      "cell_type": "markdown",
      "source": [
        "                ******** Practical Questions **********"
      ],
      "metadata": {
        "id": "sn-IVe8HwVpT"
      }
    },
    {
      "cell_type": "code",
      "source": [
        "#Ques1: How can you open a file for writing in Python and write a string to it?\n",
        "file_path = \"my_file.txt\"\n",
        "\n",
        "with open(file_path, 'w') as file:\n",
        "    file.write(\"This is the testing1.\\n\")\n",
        "    file.write(\"This is the testing2.\\n\")\n",
        "    file.write(\"This is the testing3.\\n\")"
      ],
      "metadata": {
        "id": "MnMtajiruKi7"
      },
      "execution_count": null,
      "outputs": []
    },
    {
      "cell_type": "code",
      "source": [
        "#Ques2: Write a Python program to read the contents of a file and print each line.\n",
        "file_path = \"my_file.txt\"\n",
        "with open(file_path, 'r') as file:\n",
        "            for line in file:\n",
        "                print(line, end=\"\")"
      ],
      "metadata": {
        "id": "ROCf4egz0j0N",
        "colab": {
          "base_uri": "https://localhost:8080/"
        },
        "outputId": "abdc82ac-5f0d-404a-e8a3-a82a1da10da3"
      },
      "execution_count": null,
      "outputs": [
        {
          "output_type": "stream",
          "name": "stdout",
          "text": [
            "This is the testing1.\n",
            "This is the testing2.\n",
            "This is the testing3.\n"
          ]
        }
      ]
    },
    {
      "cell_type": "code",
      "source": [
        "#Ques3: How would you handle a case where the file doesn't exist while trying to open it for reading?\n",
        "file_path = \"my_file1.txt\"\n",
        "try:\n",
        "    with open(file_path, 'r') as file:\n",
        "        contents = file.read()\n",
        "except FileNotFoundError:\n",
        "    print(f\"Error: File '{file_path}' not found.\")"
      ],
      "metadata": {
        "id": "xwRK6jUq4Yua",
        "colab": {
          "base_uri": "https://localhost:8080/"
        },
        "outputId": "a407515f-4ef8-400e-f114-598aa0d9f576"
      },
      "execution_count": null,
      "outputs": [
        {
          "output_type": "stream",
          "name": "stdout",
          "text": [
            "Error: File 'my_file1.txt' not found.\n"
          ]
        }
      ]
    },
    {
      "cell_type": "code",
      "source": [
        "#Ques4: Write a Python script that reads from one file and writes its content to another file\n",
        "import shutil\n",
        "s_path = \"my_file.txt\"\n",
        "d_path = \"Copy_file.txt\"\n",
        "try:\n",
        "  with open(s_path, 'r') as source, open(d_path, 'w') as destination:\n",
        "    shutil.copyfileobj(source, destination)\n",
        "    print(f\"File '{s_path}' copied to '{d_path}' successfully.\")\n",
        "except FileNotFoundError:\n",
        "  print(f\"Error: Source file '{s_path}' not found.\")\n",
        "except Exception as e:\n",
        "  print(f\"An error occurred: {e}\")"
      ],
      "metadata": {
        "id": "Hi0BvZM_5Mrp",
        "colab": {
          "base_uri": "https://localhost:8080/"
        },
        "outputId": "925fff45-ea2b-4043-8505-b31d862f5416"
      },
      "execution_count": null,
      "outputs": [
        {
          "output_type": "stream",
          "name": "stdout",
          "text": [
            "File 'my_file.txt' copied to 'Copy_file.txt' successfully.\n"
          ]
        }
      ]
    },
    {
      "cell_type": "code",
      "source": [
        "#Ques5: How would you catch and handle division by zero error in Python?\n",
        "try:\n",
        "    numerator = 10\n",
        "    denominator = 2\n",
        "    result = numerator / denominator\n",
        "except ZeroDivisionError:\n",
        "    print(\"Error: Division by zero is not allowed.\")\n",
        "else:\n",
        "    print(\"Result:\", result)  # Executes if no exception occurs\n",
        "finally:\n",
        "    print(\"Execution complete.\")  # Always executes"
      ],
      "metadata": {
        "colab": {
          "base_uri": "https://localhost:8080/"
        },
        "id": "JACzNkrV51GS",
        "outputId": "9e9bd8a3-3e15-40e4-f1bd-183497e649f2"
      },
      "execution_count": null,
      "outputs": [
        {
          "output_type": "stream",
          "name": "stdout",
          "text": [
            "Result: 5.0\n",
            "Execution complete.\n"
          ]
        }
      ]
    },
    {
      "cell_type": "code",
      "source": [
        "#Ques6:Write a Python program that logs an error message to a log file when a division by zero exception occurs.\n",
        "import logging\n",
        "\n",
        "logging.basicConfig(filename='error_log.txt', level=logging.ERROR)"
      ],
      "metadata": {
        "id": "3DSffipn7HIG"
      },
      "execution_count": null,
      "outputs": []
    },
    {
      "cell_type": "code",
      "source": [
        "#Ques7: How do you log information at different levels (INFO, ERROR, WARNING) in Python using the logging module?\n",
        "import logging\n",
        "logging.debug('This message is for debugging purposes.')\n",
        "logging.info('Informational message.')\n",
        "logging.warning('Something might be wrong.')\n",
        "logging.error('An error occurred.')\n",
        "logging.critical('A critical error occurred; the program might terminate.')"
      ],
      "metadata": {
        "id": "ty2WGGH07e3m",
        "colab": {
          "base_uri": "https://localhost:8080/"
        },
        "outputId": "758d21c0-186c-466e-83f3-2a8676e6ceb1"
      },
      "execution_count": null,
      "outputs": [
        {
          "output_type": "stream",
          "name": "stderr",
          "text": [
            "WARNING:root:Something might be wrong.\n",
            "ERROR:root:An error occurred.\n",
            "CRITICAL:root:A critical error occurred; the program might terminate.\n"
          ]
        }
      ]
    },
    {
      "cell_type": "code",
      "source": [
        "#Ques8:Write a program to handle a file opening error using exception handling?\n",
        "try:\n",
        "  file_path = \"my_file.txt\"\n",
        "  with open(file_path, 'r') as file:\n",
        "        contents = file.read()\n",
        "        print(contents)\n",
        "except FileNotFoundError:\n",
        "    print(f\"Error: File '{file_path}' not found.\")"
      ],
      "metadata": {
        "colab": {
          "base_uri": "https://localhost:8080/"
        },
        "id": "rOVDjaWBuvlu",
        "outputId": "693c63aa-0b15-42b7-a4bc-e92a281d3e36"
      },
      "execution_count": null,
      "outputs": [
        {
          "output_type": "stream",
          "name": "stdout",
          "text": [
            "This is the testing1.\n",
            "This is the testing2.\n",
            "This is the testing3.\n",
            "\n"
          ]
        }
      ]
    },
    {
      "cell_type": "code",
      "source": [
        "#Ques9: How can you read a file line by line and store its content in a list in Python?\n",
        "file_path = \"my_file.txt\"\n",
        "try:\n",
        "  with open(file_path, 'r') as file:\n",
        "    lines = file.readlines()\n",
        "    #lines = [line.strip() for line in lines]\n",
        "    print(lines)\n",
        "except FileNotFoundError:\n",
        "    print(f\"Error: File '{file_path}' not found.\")"
      ],
      "metadata": {
        "id": "MvhPTGlb6ReK",
        "colab": {
          "base_uri": "https://localhost:8080/"
        },
        "outputId": "6e37e041-9026-4769-b456-4bd3c1885385"
      },
      "execution_count": null,
      "outputs": [
        {
          "output_type": "stream",
          "name": "stdout",
          "text": [
            "['This is the testing1.\\n', 'This is the testing2.\\n', 'This is the testing3.\\n', 'Line 1\\n', 'Line 2\\n', 'Line 3\\n']\n"
          ]
        }
      ]
    },
    {
      "cell_type": "code",
      "source": [
        "#Ques10:How can you append data to an existing file in Python?\n",
        "lines_to_append = ['Line 1\\n', 'Line 2\\n', 'Line 3\\n']\n",
        "with open('my_file.txt', 'a') as file:\n",
        "    file.writelines(lines_to_append)"
      ],
      "metadata": {
        "id": "z8IaUeo-vvhO"
      },
      "execution_count": null,
      "outputs": []
    },
    {
      "cell_type": "code",
      "source": [
        "#Ques11: Write a Python program that uses a try-except block to handle an error when attempting to access a dictionary key that doesn't exist.\n",
        "my_dict = {\"a\": 1, \"b\": 2, \"c\": 3}\n",
        "try:\n",
        "    value = my_dict[\"d\"]\n",
        "    print(f\"The value is: {value}\")\n",
        "except KeyError:\n",
        "    print(\"Error: Key 'd' not found in the dictionary.\")"
      ],
      "metadata": {
        "colab": {
          "base_uri": "https://localhost:8080/"
        },
        "id": "PcEdoeBvv4oC",
        "outputId": "5566ccc4-9687-4fd3-cf67-803e93ac8569"
      },
      "execution_count": null,
      "outputs": [
        {
          "output_type": "stream",
          "name": "stdout",
          "text": [
            "Error: Key 'd' not found in the dictionary.\n"
          ]
        }
      ]
    },
    {
      "cell_type": "code",
      "source": [
        "#Ques12: Write a program that demonstrates using multiple except blocks to handle different types of exceptions?\n",
        "try:\n",
        "    numerator = int(input(\"Enter the numerator: \"))\n",
        "    denominator = int(input(\"Enter the denominator: \"))\n",
        "    result = numerator / denominator\n",
        "    print(\"Result of division:\", result)\n",
        "\n",
        "    my_list = [1, 2, 3]\n",
        "    print(\"Element at index 4:\", my_list[4])\n",
        "\n",
        "except ZeroDivisionError:\n",
        "    print(\"Error: Cannot divide by zero.\")\n",
        "except ValueError:\n",
        "    print(\"Error: Invalid input. Please enter integers only.\")\n",
        "except IndexError:\n",
        "    print(\"Error: List index out of range.\")\n",
        "except Exception as e:  # Catches any other exception\n",
        "    print(f\"An unexpected error occurred: {e}\")  # Prints the exception object\n",
        "else: # This block is only executed if the code inside the try block does not raise exceptions\n",
        "    print(\"No exceptions occurred during the try block execution\")\n",
        "finally:\n",
        "    print(\"This finally block always executes, cleaning up or finalizing operations if necessary.\")"
      ],
      "metadata": {
        "colab": {
          "base_uri": "https://localhost:8080/"
        },
        "id": "7esg4uuxwZV0",
        "outputId": "b325dc28-a7a2-4f68-ec00-29f9e01e9f22"
      },
      "execution_count": null,
      "outputs": [
        {
          "output_type": "stream",
          "name": "stdout",
          "text": [
            "Enter the numerator: 20\n",
            "Enter the denominator: 100\n",
            "Result of division: 0.2\n",
            "Error: List index out of range.\n",
            "This finally block always executes, cleaning up or finalizing operations if necessary.\n"
          ]
        }
      ]
    },
    {
      "cell_type": "code",
      "source": [
        "#Ques13: How would you check if a file exists before attempting to read it in Python?\n",
        "import os\n",
        "from pathlib import Path\n",
        "file_path = \"my_file.txt\"\n",
        "if os.path.exists(file_path):\n",
        "    with open(file_path, 'r') as file:\n",
        "        content = file.read()\n",
        "    print(\"File content:\", content)\n",
        "else:\n",
        "    print(\"File does not exist.\")"
      ],
      "metadata": {
        "colab": {
          "base_uri": "https://localhost:8080/"
        },
        "id": "X7MAUEuGxASb",
        "outputId": "3268b0c1-b4bf-43cb-dd9c-38fd2f68df9e"
      },
      "execution_count": null,
      "outputs": [
        {
          "output_type": "stream",
          "name": "stdout",
          "text": [
            "File content: This is the testing1.\n",
            "This is the testing2.\n",
            "This is the testing3.\n",
            "Line 1\n",
            "Line 2\n",
            "Line 3\n",
            "\n"
          ]
        }
      ]
    },
    {
      "cell_type": "code",
      "source": [
        "#Ques14:Write a program that uses the logging module to log both informational and error messages?\n",
        "import logging\n",
        "logging.basicConfig(\n",
        "    level=logging.DEBUG,\n",
        "    format='%(asctime)s - %(levelname)s - %(message)s',\n",
        "    filename='app.log',\n",
        "    filemode='w'\n",
        ")\n",
        "\n",
        "logging.info('Application started')\n",
        "logging.info('Loading configuration file...')\n",
        "\n",
        "try:\n",
        "    result = 10 / 0\n",
        "except ZeroDivisionError as e:\n",
        "    logging.error(f'An error occurred: {e}')\n",
        "logging.info('Configuration file loaded successfully')\n",
        "logging.info('Application finished')"
      ],
      "metadata": {
        "colab": {
          "base_uri": "https://localhost:8080/"
        },
        "id": "SIRkOGWQxSrP",
        "outputId": "f12714b3-b2fa-4c97-966a-aec9777dee07"
      },
      "execution_count": null,
      "outputs": [
        {
          "output_type": "stream",
          "name": "stderr",
          "text": [
            "ERROR:root:An error occurred: division by zero\n"
          ]
        }
      ]
    },
    {
      "cell_type": "code",
      "source": [
        "#Ques15:Write a Python program that prints the content of a file and handles the case when the file is empty?\n",
        "file_path = \"my_file.txt\"\n",
        "try:\n",
        "  with open(file_path, 'r') as file:\n",
        "        content = file.read()\n",
        "        if content!=\"\":\n",
        "          print(\"File content:\", content)\n",
        "        else:\n",
        "            print(\"The file is empty.\")\n",
        "except FileNotFoundError:\n",
        "    print(f\"Error: File '{file_path}' not found.\")"
      ],
      "metadata": {
        "colab": {
          "base_uri": "https://localhost:8080/"
        },
        "outputId": "37f2465a-7e3f-4f41-897b-b1b7965116f9",
        "id": "r-WXt7wB7tF9"
      },
      "execution_count": null,
      "outputs": [
        {
          "output_type": "stream",
          "name": "stdout",
          "text": [
            "File content: This is the testing1.\n",
            "This is the testing2.\n",
            "This is the testing3.\n",
            "Line 1\n",
            "Line 2\n",
            "Line 3\n",
            "\n"
          ]
        }
      ]
    },
    {
      "cell_type": "code",
      "source": [
        "#Ques16:Demonstrate how to use memory profiling to check the memory usage of a small program.\n",
        "import profile\n",
        "def my_function():\n",
        "    my_list = list(range(10000))\n",
        "    print(len(my_list))\n",
        "my_function()"
      ],
      "metadata": {
        "colab": {
          "base_uri": "https://localhost:8080/"
        },
        "id": "dtcpWqd6yT0Q",
        "outputId": "beb94fca-6c14-4a69-a8de-5a585a474a25"
      },
      "execution_count": null,
      "outputs": [
        {
          "output_type": "stream",
          "name": "stdout",
          "text": [
            "10000\n"
          ]
        }
      ]
    },
    {
      "cell_type": "code",
      "source": [
        "#Ques17:Write a Python program to create and write a list of numbers to a file, one number per line.\n",
        "numbers = [1, 2, 3, 4, 5]\n",
        "with open('numbers.txt', 'w') as file:\n",
        "    for num in numbers:\n",
        "        file.write(str(num) + '\\n')"
      ],
      "metadata": {
        "id": "9qTZGCU3yrXk"
      },
      "execution_count": null,
      "outputs": []
    },
    {
      "cell_type": "code",
      "source": [
        "#Ques18:How would you implement a basic logging setup that logs to a file with rotation after 1MB?\n",
        "import logging\n",
        "from logging.handlers import RotatingFileHandler\n",
        "\n",
        "def setup_rotating_log(log_file_path, max_bytes=1048576, backup_count=5):\n",
        "    \"\"\"Set up a rotating log file.\n",
        "\n",
        "    Args:\n",
        "        log_file_path: The path to the log file.\n",
        "        max_bytes: The maximum size of the log file in bytes before rotating.\n",
        "                     Defaults to 1MB (1048576 bytes).\n",
        "        backup_count: The number of backup log files to keep.\n",
        "    \"\"\"\n",
        "    logger = logging.getLogger(__name__)  # Using __name__ is good practice for module-level logging\n",
        "    logger.setLevel(logging.DEBUG)  # Set logging level (DEBUG, INFO, WARNING, ERROR, CRITICAL)\n",
        "\n",
        "    # Create a rotating file handler:\n",
        "    handler = RotatingFileHandler(log_file_path, maxBytes=max_bytes, backupCount=backup_count)\n",
        "\n",
        "    # Create and set a formatter (optional, but recommended):\n",
        "    formatter = logging.Formatter('%(asctime)s - %(levelname)s - %(message)s')  # Customize format as needed\n",
        "    handler.setFormatter(formatter)\n",
        "\n",
        "    # Add the handler to the logger:\n",
        "    logger.addHandler(handler)\n",
        "    return logger\n",
        "\n",
        "# Example Usage:\n",
        "log_file = \"my_rotating_log.log\"\n",
        "logger = setup_rotating_log(log_file)\n",
        "\n",
        "logger.debug(\"This is a debug message.\")\n",
        "logger.info(\"This is an info message.\")\n",
        "logger.warning(\"This is a warning message.\")\n",
        "logger.error(\"This is an error message.\")\n",
        "logger.critical(\"This is a critical message.\")\n",
        "\n",
        "#for i in range(2000): # Write enough log entries to trigger the rotation a few times:\n",
        " #  logger.debug(f\"This is log entry number {i+1}.\")"
      ],
      "metadata": {
        "colab": {
          "base_uri": "https://localhost:8080/"
        },
        "id": "yKXMjFFcyxOm",
        "outputId": "c613620b-c527-49e4-8341-13c4d2839180"
      },
      "execution_count": 1,
      "outputs": [
        {
          "output_type": "stream",
          "name": "stderr",
          "text": [
            "DEBUG:__main__:This is a debug message.\n",
            "INFO:__main__:This is an info message.\n",
            "WARNING:__main__:This is a warning message.\n",
            "ERROR:__main__:This is an error message.\n",
            "CRITICAL:__main__:This is a critical message.\n"
          ]
        }
      ]
    },
    {
      "cell_type": "code",
      "source": [
        "#Ques19:Write a program that handles both IndexError and KeyError using a try-except block?\n",
        "data = [1, 2, 3]\n",
        "my_dict = {\"a\": 1, \"b\": 2, \"c\": 3}\n",
        "\n",
        "try:\n",
        "    index = int(input(\"Enter an index for the list: \"))\n",
        "    value = data[index]\n",
        "    print(f\"Value at index {index}: {value}\")\n",
        "\n",
        "    key = input(\"Enter a key for the dictionary: \")\n",
        "    dict_value = my_dict[key]\n",
        "    print(f\"Value for key '{key}': {dict_value}\")\n",
        "\n",
        "except IndexError:\n",
        "    print(\"Error: Index out of range.\")\n",
        "except KeyError:\n",
        "    print(\"Error: Key not found in dictionary.\")\n",
        "except ValueError:\n",
        "    print(\"Error: Invalid input. Please enter an integer for the index.\")"
      ],
      "metadata": {
        "colab": {
          "base_uri": "https://localhost:8080/"
        },
        "id": "N69YGn0sywn-",
        "outputId": "1c3e86f7-0012-4a5b-90cc-10c2a28332f4"
      },
      "execution_count": null,
      "outputs": [
        {
          "output_type": "stream",
          "name": "stdout",
          "text": [
            "Enter an index for the list: 3\n",
            "Error: Index out of range.\n"
          ]
        }
      ]
    },
    {
      "cell_type": "code",
      "source": [
        "#Ques20:How would you open a file and read its contents using a context manager in Python?\n",
        "def read_file_with_context_manager(filename):\n",
        "    try:\n",
        "        with open(filename, 'r') as file:\n",
        "            content = file.read()\n",
        "            return content\n",
        "    except FileNotFoundError:\n",
        "        return f\"Error: File '{filename}' not found.\"\n",
        "    except Exception as e:\n",
        "        return f\"An error occurred: {e}\"\n",
        "\n",
        "file_content = read_file_with_context_manager('example.txt')\n",
        "print(file_content)\n",
        "\n",
        "# Example creating the file if it does not exists:\n",
        "with open('example.txt', 'w') as file:\n",
        "    file.write(\"Hello, World!\")\n",
        "\n",
        "file_content = read_file_with_context_manager('example.txt')\n",
        "print(file_content)"
      ],
      "metadata": {
        "colab": {
          "base_uri": "https://localhost:8080/"
        },
        "id": "rRMl6utTzPq5",
        "outputId": "b4ea4659-25db-4123-eda8-2b373510648c"
      },
      "execution_count": null,
      "outputs": [
        {
          "output_type": "stream",
          "name": "stdout",
          "text": [
            "Error: File 'example.txt' not found.\n",
            "Hello, World!\n"
          ]
        }
      ]
    },
    {
      "cell_type": "code",
      "source": [
        "#Ques21:Write a Python program that reads a file and prints the number of occurrences of a specific word.\n",
        "def count_word_occurrences(file_path, word_to_count):\n",
        "    try:\n",
        "        # Open the file in read mode\n",
        "        with open(file_path, 'r', encoding='utf-8') as file:\n",
        "            # Read the file content\n",
        "            content = file.read()\n",
        "\n",
        "        # Normalize the text to lowercase for case-insensitive matching\n",
        "        content = content.lower()\n",
        "        word_to_count = word_to_count.lower()\n",
        "\n",
        "        # Split the content into words\n",
        "        words = content.split()\n",
        "\n",
        "        # Count the occurrences of the specific word\n",
        "        count = words.count(word_to_count)\n",
        "\n",
        "        print(f\"The word '{word_to_count}' occurs {count} times in the file.\")\n",
        "    except FileNotFoundError:\n",
        "        print(\"The specified file was not found. Please check the file path.\")\n",
        "    except Exception as e:\n",
        "        print(f\"An error occurred: {e}\")\n",
        "\n",
        "# Example usage\n",
        "file_path = input(\"Enter the file path: \")\n",
        "word_to_count = input(\"Enter the word to count: \")\n",
        "count_word_occurrences(file_path, word_to_count)"
      ],
      "metadata": {
        "colab": {
          "base_uri": "https://localhost:8080/"
        },
        "id": "donGAD2EziFH",
        "outputId": "6c752a62-fac8-46ee-ad77-d70513c52c80"
      },
      "execution_count": null,
      "outputs": [
        {
          "output_type": "stream",
          "name": "stdout",
          "text": [
            "Enter the file path: path\n",
            "Enter the word to count: 20\n",
            "The specified file was not found. Please check the file path.\n"
          ]
        }
      ]
    },
    {
      "cell_type": "code",
      "source": [
        "#Ques22:How can you check if a file is empty before attempting to read its contents?\n",
        "file_path = 'my_file.txt'\n",
        "with open(file_path, 'r') as file_obj:\n",
        "    first_char = file_obj.read(1)\n",
        "    if not first_char:\n",
        "        print(\"File is empty\")\n",
        "    else:\n",
        "        print(\"File is NOT empty\")"
      ],
      "metadata": {
        "colab": {
          "base_uri": "https://localhost:8080/"
        },
        "id": "K_jaoxJGzohC",
        "outputId": "9c971852-6f66-4773-89f1-3fe7f1cb7601"
      },
      "execution_count": null,
      "outputs": [
        {
          "output_type": "stream",
          "name": "stdout",
          "text": [
            "File is NOT empty\n"
          ]
        }
      ]
    },
    {
      "cell_type": "code",
      "source": [
        "#Ques23:Write a Python program that writes to a log file when an error occurs during file handling.\n",
        "import logging\n",
        "\n",
        "# Configure logging to write to a file\n",
        "logging.basicConfig(filename='file_handling_errors.log', level=logging.ERROR,\n",
        "                    format='%(asctime)s - %(levelname)s - %(message)s')\n",
        "\n",
        "def process_file(file_path):\n",
        "\n",
        "    try:\n",
        "        with open(file_path, 'r') as file:\n",
        "            content = file.read()\n",
        "        # Process the content (example: print it)\n",
        "        print(content)\n",
        "    except FileNotFoundError:\n",
        "        logging.error(f\"File not found: {file_path}\")\n",
        "    except PermissionError:\n",
        "        logging.error(f\"Permission denied for: {file_path}\")\n",
        "    except Exception as e:\n",
        "        logging.error(f\"An unexpected error occurred: {e}\")\n",
        "\n",
        "# Example usage:\n",
        "file_path = 'example.txt'  # Replace with your file path\n",
        "process_file(file_path)"
      ],
      "metadata": {
        "colab": {
          "base_uri": "https://localhost:8080/"
        },
        "id": "9dogKAL3z0xq",
        "outputId": "d51609ba-dca6-40eb-96d8-f522ef9dbd0f"
      },
      "execution_count": null,
      "outputs": [
        {
          "output_type": "stream",
          "name": "stdout",
          "text": [
            "Hello, World!\n"
          ]
        }
      ]
    }
  ]
}